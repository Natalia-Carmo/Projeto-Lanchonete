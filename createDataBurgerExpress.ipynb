{
 "cells": [
  {
   "cell_type": "code",
   "execution_count": null,
   "metadata": {},
   "outputs": [],
   "source": [
    "# Importando as bibliotecas do pandas\n",
    "import pandas as pd\n",
    "import random\n",
    "from datetime import datetime, timedelta"
   ]
  },
  {
   "cell_type": "code",
   "execution_count": null,
   "metadata": {},
   "outputs": [],
   "source": [
    "# Definição dos produtos e categorias\n",
    "produtos = [\n",
    "    (\"Hamburguer Classico\", \"Sanduiche\", 15.90),\n",
    "    (\"Cheeseburger\", \"Sanduiche\", 17.50),\n",
    "    (\"X-Bacon\", \"Sanduiche\", 20.00),\n",
    "    (\"X-Tudo\", \"Sanduiche\", 24.00),\n",
    "    (\"Batata Frita Pequena\", \"Acompanhamento\", 8.00),\n",
    "    (\"Batata Frita Grande\", \"Acompanhamento\", 12.00),\n",
    "    (\"Refrigerante Lata\", \"Bebida\", 6.50),\n",
    "    (\"Refrigerante Garrafa\", \"Bebida\", 10.50),\n",
    "    (\"Milkshake Chocolate\", \"Bebida\", 14.00),\n",
    "    (\"Milkshake Morango\", \"Bebida\", 14.00),\n",
    "    (\"Cachorro-Quente Simples\", \"Sanduiche\", 12.00),\n",
    "    (\"Cachorro-Quente com Bacon\", \"Sanduiche\", 18.00),\n",
    "    (\"Nuggets (6 unidades)\", \"Acompanhamento\", 10.00),\n",
    "    (\"Combo Simples (1 X-Tudo - 1 Refrigerante Lata)\", \"Combo\", 35.00),\n",
    "    (\"Combo Duplo (1 X-Tudo - 1X-Bacon - 2 Refrigerante Lata)\", \"Combo\", 45.00),\n",
    "    (\"Combo Familia (6 X-Tudo - Nuggets - 1 Refrigerante Garrafa)\", \"Combo\", 65.00),\n",
    "    (\"Agua Mineral\", \"Bebida\", 5.00)\n",
    "]\n",
    "\n",
    "formas_pagamento = [\"Dinheiro\", \"Cartao de Credito\", \"Cartao de Debito\", \"Pix\"]"
   ]
  },
  {
   "cell_type": "code",
   "execution_count": null,
   "metadata": {},
   "outputs": [],
   "source": [
    "# Gerando dados fictícios da lanchonete - Ano inicial 2022\n",
    "num_registros = 5000\n",
    "data_inicio = datetime(2022, 1, 1)\n",
    "dados = []\n",
    "\n",
    "for i in range(1, num_registros + 1):\n",
    "    data_venda = data_inicio + timedelta(days=random.randint(0, 800))\n",
    "    produto, categoria, preco_unitario = random.choice(produtos)\n",
    "    quantidade = random.randint(1, 5)\n",
    "    total_venda = round(quantidade * preco_unitario, 2)\n",
    "    forma_pagamento = random.choice(formas_pagamento)\n",
    "    \n",
    "    dados.append([i, data_venda.strftime(\"%Y-%m-%d\"), produto, categoria, quantidade, preco_unitario, total_venda, forma_pagamento])\n"
   ]
  },
  {
   "cell_type": "code",
   "execution_count": null,
   "metadata": {},
   "outputs": [],
   "source": [
    "# Criando DataFrame\n",
    "colunas = [\"ID_Venda\", \"Data_Venda\", \"Produto\", \"Categoria\", \"Quantidade\", \"Preco_Unitario\", \"Total_Venda\", \"Forma_Pagamento\"]\n",
    "df = pd.DataFrame(dados, columns=colunas)"
   ]
  },
  {
   "cell_type": "code",
   "execution_count": null,
   "metadata": {},
   "outputs": [],
   "source": [
    "# Exibir as primeiras linhas do DataFrame\n",
    "print(df.head())"
   ]
  },
  {
   "cell_type": "code",
   "execution_count": null,
   "metadata": {},
   "outputs": [],
   "source": [
    "# Salvando os dados em formato .csv\n",
    "df.to_csv('vendasBurgerExpress.csv', index=False)"
   ]
  }
 ],
 "metadata": {
  "kernelspec": {
   "display_name": "Python 3",
   "language": "python",
   "name": "python3"
  },
  "language_info": {
   "codemirror_mode": {
    "name": "ipython",
    "version": 3
   },
   "file_extension": ".py",
   "mimetype": "text/x-python",
   "name": "python",
   "nbconvert_exporter": "python",
   "pygments_lexer": "ipython3",
   "version": "3.12.3"
  }
 },
 "nbformat": 4,
 "nbformat_minor": 2
}

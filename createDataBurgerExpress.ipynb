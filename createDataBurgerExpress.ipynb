{
 "cells": [
  {
   "cell_type": "code",
   "execution_count": 38,
   "metadata": {},
   "outputs": [],
   "source": [
    "# Importando as bibliotecas do pandas\n",
    "import pandas as pd\n",
    "import random\n",
    "from datetime import datetime, timedelta"
   ]
  },
  {
   "cell_type": "code",
   "execution_count": 39,
   "metadata": {},
   "outputs": [],
   "source": [
    "# Definição dos produtos e categorias\n",
    "produtos = [\n",
    "    (\"Hamburguer Classico\", \"Sanduiche\", 15.90),\n",
    "    (\"Cheeseburger\", \"Sanduiche\", 17.50),\n",
    "    (\"X-Bacon\", \"Sanduiche\", 20.00),\n",
    "    (\"X-Tudo\", \"Sanduiche\", 24.00),\n",
    "    (\"Batata Frita Pequena\", \"Acompanhamento\", 8.00),\n",
    "    (\"Batata Frita Grande\", \"Acompanhamento\", 12.00),\n",
    "    (\"Refrigerante Lata\", \"Bebida\", 6.50),\n",
    "    (\"Refrigerante Garrafa\", \"Bebida\", 10.50),\n",
    "    (\"Milkshake Chocolate\", \"Bebida\", 14.00),\n",
    "    (\"Milkshake Morango\", \"Bebida\", 14.00),\n",
    "    (\"Cachorro-Quente Simples\", \"Sanduiche\", 12.00),\n",
    "    (\"Cachorro-Quente com Bacon\", \"Sanduiche\", 18.00),\n",
    "    (\"Nuggets (6 unidades)\", \"Acompanhamento\", 10.00),\n",
    "    (\"Combo Simples (1 X-Tudo - 1 Refrigerante Lata)\", \"Combo\", 35.00),\n",
    "    (\"Combo Duplo (1 X-Tudo - 1X-Bacon - 2 Refrigerante Lata)\", \"Combo\", 45.00),\n",
    "    (\"Combo Familia (6 X-Tudo - Nuggets - 1 Refrigerante Garrafa)\", \"Combo\", 65.00),\n",
    "    (\"Agua Mineral\", \"Bebida\", 5.00),\n",
    "    (\"Energetico Lata\", \"Bebida\", 7.50),\n",
    "    (\"Cerveja Lata\", \"Bebida\", 7.00)\n",
    "]\n",
    "\n",
    "formas_pagamento = [\"Dinheiro\", \"Cartao de Credito\", \"Cartao de Debito\", \"Pix\"]"
   ]
  },
  {
   "cell_type": "code",
   "execution_count": null,
   "metadata": {},
   "outputs": [],
   "source": [
    "# Gerando dados fictícios da lanchonete - Ano inicial 2022 ate a data atual\n",
    "num_registros = 10000\n",
    "data_inicio = datetime(2022, 1, 1)\n",
    "data_fim = datetime.today()  # Define o limite superior como a data atual\n",
    "dias_intervalo = (data_fim - data_inicio).days  # Calcula a quantidade de dias entre as datas\n",
    "dados = []\n",
    "\n",
    "for i in range(1, num_registros + 1):\n",
    "    data_venda = data_inicio + timedelta(days=random.randint(0, dias_intervalo))\n",
    "    produto, categoria, preco_unitario = random.choice(produtos)\n",
    "    quantidade = random.randint(1, 5)\n",
    "    total_venda = round(quantidade * preco_unitario, 2)\n",
    "    forma_pagamento = random.choice(formas_pagamento)\n",
    "    \n",
    "    dados.append([i, data_venda.strftime(\"%Y-%m-%d\"), produto, categoria, quantidade, preco_unitario, total_venda, forma_pagamento])\n",
    "\n"
   ]
  },
  {
   "cell_type": "code",
   "execution_count": 41,
   "metadata": {},
   "outputs": [],
   "source": [
    "# Criando DataFrame\n",
    "colunas = [\"ID_Venda\", \"Data_Venda\", \"Produto\", \"Categoria\", \"Quantidade\", \"Preco_Unitario\", \"Total_Venda\", \"Forma_Pagamento\"]\n",
    "df = pd.DataFrame(dados, columns=colunas)"
   ]
  },
  {
   "cell_type": "code",
   "execution_count": 42,
   "metadata": {},
   "outputs": [
    {
     "data": {
      "text/html": [
       "<div>\n",
       "<style scoped>\n",
       "    .dataframe tbody tr th:only-of-type {\n",
       "        vertical-align: middle;\n",
       "    }\n",
       "\n",
       "    .dataframe tbody tr th {\n",
       "        vertical-align: top;\n",
       "    }\n",
       "\n",
       "    .dataframe thead th {\n",
       "        text-align: right;\n",
       "    }\n",
       "</style>\n",
       "<table border=\"1\" class=\"dataframe\">\n",
       "  <thead>\n",
       "    <tr style=\"text-align: right;\">\n",
       "      <th></th>\n",
       "      <th>ID_Venda</th>\n",
       "      <th>Data_Venda</th>\n",
       "      <th>Produto</th>\n",
       "      <th>Categoria</th>\n",
       "      <th>Quantidade</th>\n",
       "      <th>Preco_Unitario</th>\n",
       "      <th>Total_Venda</th>\n",
       "      <th>Forma_Pagamento</th>\n",
       "    </tr>\n",
       "  </thead>\n",
       "  <tbody>\n",
       "    <tr>\n",
       "      <th>0</th>\n",
       "      <td>1</td>\n",
       "      <td>2024-05-04</td>\n",
       "      <td>X-Tudo</td>\n",
       "      <td>Sanduiche</td>\n",
       "      <td>5</td>\n",
       "      <td>24.0</td>\n",
       "      <td>120.0</td>\n",
       "      <td>Cartao de Credito</td>\n",
       "    </tr>\n",
       "    <tr>\n",
       "      <th>1</th>\n",
       "      <td>2</td>\n",
       "      <td>2023-03-17</td>\n",
       "      <td>Batata Frita Pequena</td>\n",
       "      <td>Acompanhamento</td>\n",
       "      <td>2</td>\n",
       "      <td>8.0</td>\n",
       "      <td>16.0</td>\n",
       "      <td>Pix</td>\n",
       "    </tr>\n",
       "    <tr>\n",
       "      <th>2</th>\n",
       "      <td>3</td>\n",
       "      <td>2022-12-15</td>\n",
       "      <td>X-Tudo</td>\n",
       "      <td>Sanduiche</td>\n",
       "      <td>4</td>\n",
       "      <td>24.0</td>\n",
       "      <td>96.0</td>\n",
       "      <td>Dinheiro</td>\n",
       "    </tr>\n",
       "    <tr>\n",
       "      <th>3</th>\n",
       "      <td>4</td>\n",
       "      <td>2022-05-27</td>\n",
       "      <td>Milkshake Morango</td>\n",
       "      <td>Bebida</td>\n",
       "      <td>4</td>\n",
       "      <td>14.0</td>\n",
       "      <td>56.0</td>\n",
       "      <td>Dinheiro</td>\n",
       "    </tr>\n",
       "    <tr>\n",
       "      <th>4</th>\n",
       "      <td>5</td>\n",
       "      <td>2022-12-14</td>\n",
       "      <td>Energetico Lata</td>\n",
       "      <td>Bebida</td>\n",
       "      <td>2</td>\n",
       "      <td>7.5</td>\n",
       "      <td>15.0</td>\n",
       "      <td>Pix</td>\n",
       "    </tr>\n",
       "  </tbody>\n",
       "</table>\n",
       "</div>"
      ],
      "text/plain": [
       "   ID_Venda  Data_Venda               Produto       Categoria  Quantidade  \\\n",
       "0         1  2024-05-04                X-Tudo       Sanduiche           5   \n",
       "1         2  2023-03-17  Batata Frita Pequena  Acompanhamento           2   \n",
       "2         3  2022-12-15                X-Tudo       Sanduiche           4   \n",
       "3         4  2022-05-27     Milkshake Morango          Bebida           4   \n",
       "4         5  2022-12-14       Energetico Lata          Bebida           2   \n",
       "\n",
       "   Preco_Unitario  Total_Venda    Forma_Pagamento  \n",
       "0            24.0        120.0  Cartao de Credito  \n",
       "1             8.0         16.0                Pix  \n",
       "2            24.0         96.0           Dinheiro  \n",
       "3            14.0         56.0           Dinheiro  \n",
       "4             7.5         15.0                Pix  "
      ]
     },
     "execution_count": 42,
     "metadata": {},
     "output_type": "execute_result"
    }
   ],
   "source": [
    "# Exibir as primeiras linhas do DataFrame\n",
    "df.head()"
   ]
  },
  {
   "cell_type": "code",
   "execution_count": 43,
   "metadata": {},
   "outputs": [],
   "source": [
    "# Salvando os dados em formato .csv\n",
    "#df.to_csv('vendasBurgerExpress.csv', index=False)\n",
    "\n",
    "# Salvando os dados em formato .xlsx\n",
    "df.to_excel('vendasBurgerExpress.xlsx', index=False)"
   ]
  }
 ],
 "metadata": {
  "kernelspec": {
   "display_name": "Python 3",
   "language": "python",
   "name": "python3"
  },
  "language_info": {
   "codemirror_mode": {
    "name": "ipython",
    "version": 3
   },
   "file_extension": ".py",
   "mimetype": "text/x-python",
   "name": "python",
   "nbconvert_exporter": "python",
   "pygments_lexer": "ipython3",
   "version": "3.12.3"
  }
 },
 "nbformat": 4,
 "nbformat_minor": 2
}

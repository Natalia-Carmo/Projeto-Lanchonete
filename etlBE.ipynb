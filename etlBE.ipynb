{
 "cells": [
  {
   "cell_type": "code",
   "execution_count": null,
   "metadata": {},
   "outputs": [],
   "source": [
    "import pandas as pd"
   ]
  },
  {
   "cell_type": "code",
   "execution_count": 24,
   "metadata": {},
   "outputs": [
    {
     "name": "stdout",
     "output_type": "stream",
     "text": [
      "   ID_Venda  Data_Venda               Produto       Categoria  Quantidade  \\\n",
      "0         1  2023-02-28  Nuggets (6 unidades)  Acompanhamento           2   \n",
      "1         2  2022-02-21          Agua Mineral          Bebida           5   \n",
      "2         3  2022-10-02     Milkshake Morango          Bebida           3   \n",
      "3         4  2023-03-06          Cheeseburger       Sanduiche           1   \n",
      "4         5  2022-06-20  Batata Frita Pequena  Acompanhamento           3   \n",
      "\n",
      "   Preco_Unitario  Total_Venda    Forma_Pagamento  \n",
      "0            10.0         20.0  Cartao de Credito  \n",
      "1             5.0         25.0   Cartao de Debito  \n",
      "2            14.0         42.0           Dinheiro  \n",
      "3            17.5         17.5           Dinheiro  \n",
      "4             8.0         24.0                Pix  \n"
     ]
    }
   ],
   "source": [
    "# Caminho do arquivo CSV\n",
    "file_path = \"dataBurgerExpress.csv\"\n",
    "\n",
    "# Carregar o arquivo, tratando a codificação\n",
    "df = pd.read_csv(file_path, encoding=\"latin1\")\n",
    "\n",
    "# Exibir as primeiras linhas\n",
    "print(df.head())\n",
    "\n",
    "# Salvar o arquivo com codificação UTF-8\n",
    "df.to_csv(\"vendasBurgerExpress.csv\", index=False, encoding=\"utf-8\")"
   ]
  },
  {
   "cell_type": "code",
   "execution_count": 25,
   "metadata": {},
   "outputs": [
    {
     "name": "stdout",
     "output_type": "stream",
     "text": [
      "ID_Venda           0\n",
      "Data_Venda         0\n",
      "Produto            0\n",
      "Categoria          0\n",
      "Quantidade         0\n",
      "Preco_Unitario     0\n",
      "Total_Venda        0\n",
      "Forma_Pagamento    0\n",
      "dtype: int64\n"
     ]
    }
   ],
   "source": [
    "# Carregar o arquivo transformado para UTF-8\n",
    "file_path = \"vendasBurgerExpress.csv\"\n",
    "df = pd.read_csv(file_path, encoding=\"utf-8\")\n",
    "\n",
    "## 1. Converter Data_Venda para datetime\n",
    "df[\"Data_Venda\"] = pd.to_datetime(df[\"Data_Venda\"], format=\"%Y-%m-%d\")\n",
    "\n",
    "## 2. Verificar valores nulos\n",
    "print(df.isnull().sum())  # Para ver se há valores faltantes\n"
   ]
  },
  {
   "cell_type": "code",
   "execution_count": 26,
   "metadata": {},
   "outputs": [],
   "source": [
    "# Se houver valores nulos, podemos preencher ou remover:\n",
    "# df.fillna({\"Coluna\": valor_padrao}, inplace=True)  # Preencher valores nulos\n",
    "# df.dropna(inplace=True)  # Remover linhas com valores nulos\n",
    "\n",
    "## 3. Criar novas colunas (Ano e Mês)\n",
    "df[\"Ano_Venda\"] = df[\"Data_Venda\"].dt.year\n",
    "df[\"Mes_Venda\"] = df[\"Data_Venda\"].dt.month\n"
   ]
  },
  {
   "cell_type": "code",
   "execution_count": 27,
   "metadata": {},
   "outputs": [
    {
     "name": "stdout",
     "output_type": "stream",
     "text": [
      "Erros encontrados: \n",
      " Empty DataFrame\n",
      "Columns: [ID_Venda, Data_Venda, Produto, Categoria, Quantidade, Preco_Unitario, Total_Venda, Forma_Pagamento, Ano_Venda, Mes_Venda, Total_Calculado, Diferenca_Total]\n",
      "Index: []\n"
     ]
    }
   ],
   "source": [
    "## 5. Verificação de consistência\n",
    "df[\"Total_Calculado\"] = df[\"Quantidade\"] * df[\"Preco_Unitario\"]\n",
    "\n",
    "# Verificar diferenças entre Total_Venda e o cálculo manual\n",
    "df[\"Diferenca_Total\"] = df[\"Total_Calculado\"] - df[\"Total_Venda\"]\n",
    "erros = df[df[\"Diferenca_Total\"] != 0]\n",
    "print(\"Erros encontrados: \\n\", erros)\n",
    "\n",
    "# Opcional: Ajustar `Total_Venda` se houver erro\n",
    "# df[\"Total_Venda\"] = df[\"Total_Calculado\"]\n",
    "\n",
    "# Remover colunas auxiliares\n",
    "df.drop(columns=[\"Total_Calculado\", \"Diferenca_Total\"], inplace=True)\n",
    "\n",
    "\n"
   ]
  },
  {
   "cell_type": "code",
   "execution_count": 28,
   "metadata": {},
   "outputs": [
    {
     "name": "stdout",
     "output_type": "stream",
     "text": [
      "Transformações aplicadas com sucesso!\n"
     ]
    }
   ],
   "source": [
    "## Salvar o arquivo transformado\n",
    "df.to_csv(\"dataBurgerExpress_transformado.csv\", index=False, encoding=\"utf-8\")\n",
    "\n",
    "print(\"Transformações aplicadas com sucesso!\")"
   ]
  }
 ],
 "metadata": {
  "kernelspec": {
   "display_name": "Python 3",
   "language": "python",
   "name": "python3"
  },
  "language_info": {
   "codemirror_mode": {
    "name": "ipython",
    "version": 3
   },
   "file_extension": ".py",
   "mimetype": "text/x-python",
   "name": "python",
   "nbconvert_exporter": "python",
   "pygments_lexer": "ipython3",
   "version": "3.12.3"
  }
 },
 "nbformat": 4,
 "nbformat_minor": 2
}

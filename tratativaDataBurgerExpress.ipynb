{
 "cells": [
  {
   "cell_type": "code",
   "execution_count": 23,
   "metadata": {},
   "outputs": [],
   "source": [
    "import pandas as pd"
   ]
  },
  {
   "cell_type": "code",
   "execution_count": 24,
   "metadata": {},
   "outputs": [
    {
     "data": {
      "text/html": [
       "<div>\n",
       "<style scoped>\n",
       "    .dataframe tbody tr th:only-of-type {\n",
       "        vertical-align: middle;\n",
       "    }\n",
       "\n",
       "    .dataframe tbody tr th {\n",
       "        vertical-align: top;\n",
       "    }\n",
       "\n",
       "    .dataframe thead th {\n",
       "        text-align: right;\n",
       "    }\n",
       "</style>\n",
       "<table border=\"1\" class=\"dataframe\">\n",
       "  <thead>\n",
       "    <tr style=\"text-align: right;\">\n",
       "      <th></th>\n",
       "      <th>ID_Venda</th>\n",
       "      <th>Data_Venda</th>\n",
       "      <th>Produto</th>\n",
       "      <th>Categoria</th>\n",
       "      <th>Quantidade</th>\n",
       "      <th>Preco_Unitario</th>\n",
       "      <th>Total_Venda</th>\n",
       "      <th>Forma_Pagamento</th>\n",
       "    </tr>\n",
       "  </thead>\n",
       "  <tbody>\n",
       "    <tr>\n",
       "      <th>0</th>\n",
       "      <td>1</td>\n",
       "      <td>2022-02-05</td>\n",
       "      <td>Combo Simples (1 X-Tudo - 1 Refrigerante Lata)</td>\n",
       "      <td>Combo</td>\n",
       "      <td>4</td>\n",
       "      <td>35.0</td>\n",
       "      <td>140.0</td>\n",
       "      <td>Dinheiro</td>\n",
       "    </tr>\n",
       "    <tr>\n",
       "      <th>1</th>\n",
       "      <td>2</td>\n",
       "      <td>2024-02-02</td>\n",
       "      <td>Batata Frita Pequena</td>\n",
       "      <td>Acompanhamento</td>\n",
       "      <td>4</td>\n",
       "      <td>8.0</td>\n",
       "      <td>32.0</td>\n",
       "      <td>Cartao de Debito</td>\n",
       "    </tr>\n",
       "    <tr>\n",
       "      <th>2</th>\n",
       "      <td>3</td>\n",
       "      <td>2022-04-27</td>\n",
       "      <td>Batata Recheada</td>\n",
       "      <td>Sanduiche</td>\n",
       "      <td>5</td>\n",
       "      <td>26.5</td>\n",
       "      <td>132.5</td>\n",
       "      <td>Cartao de Credito</td>\n",
       "    </tr>\n",
       "    <tr>\n",
       "      <th>3</th>\n",
       "      <td>4</td>\n",
       "      <td>2022-06-24</td>\n",
       "      <td>Milkshake Chocolate</td>\n",
       "      <td>Bebida</td>\n",
       "      <td>3</td>\n",
       "      <td>14.0</td>\n",
       "      <td>42.0</td>\n",
       "      <td>Cartao de Debito</td>\n",
       "    </tr>\n",
       "    <tr>\n",
       "      <th>4</th>\n",
       "      <td>5</td>\n",
       "      <td>2023-03-21</td>\n",
       "      <td>Combo Familia (6 X-Tudo - Nuggets - 1 Refriger...</td>\n",
       "      <td>Combo</td>\n",
       "      <td>5</td>\n",
       "      <td>65.0</td>\n",
       "      <td>325.0</td>\n",
       "      <td>Pix</td>\n",
       "    </tr>\n",
       "  </tbody>\n",
       "</table>\n",
       "</div>"
      ],
      "text/plain": [
       "   ID_Venda  Data_Venda                                            Produto  \\\n",
       "0         1  2022-02-05     Combo Simples (1 X-Tudo - 1 Refrigerante Lata)   \n",
       "1         2  2024-02-02                               Batata Frita Pequena   \n",
       "2         3  2022-04-27                                    Batata Recheada   \n",
       "3         4  2022-06-24                                Milkshake Chocolate   \n",
       "4         5  2023-03-21  Combo Familia (6 X-Tudo - Nuggets - 1 Refriger...   \n",
       "\n",
       "        Categoria  Quantidade  Preco_Unitario  Total_Venda    Forma_Pagamento  \n",
       "0           Combo           4            35.0        140.0           Dinheiro  \n",
       "1  Acompanhamento           4             8.0         32.0   Cartao de Debito  \n",
       "2       Sanduiche           5            26.5        132.5  Cartao de Credito  \n",
       "3          Bebida           3            14.0         42.0   Cartao de Debito  \n",
       "4           Combo           5            65.0        325.0                Pix  "
      ]
     },
     "execution_count": 24,
     "metadata": {},
     "output_type": "execute_result"
    }
   ],
   "source": [
    "df = pd.read_excel(\"vendasBurgerExpress.xlsx\")\n",
    "df.head()"
   ]
  },
  {
   "cell_type": "code",
   "execution_count": 25,
   "metadata": {},
   "outputs": [
    {
     "data": {
      "text/html": [
       "<div>\n",
       "<style scoped>\n",
       "    .dataframe tbody tr th:only-of-type {\n",
       "        vertical-align: middle;\n",
       "    }\n",
       "\n",
       "    .dataframe tbody tr th {\n",
       "        vertical-align: top;\n",
       "    }\n",
       "\n",
       "    .dataframe thead th {\n",
       "        text-align: right;\n",
       "    }\n",
       "</style>\n",
       "<table border=\"1\" class=\"dataframe\">\n",
       "  <thead>\n",
       "    <tr style=\"text-align: right;\">\n",
       "      <th></th>\n",
       "      <th>ID_Venda</th>\n",
       "      <th>Data_Venda</th>\n",
       "      <th>Produto</th>\n",
       "      <th>Categoria</th>\n",
       "      <th>Quantidade</th>\n",
       "      <th>Preco_Unitario</th>\n",
       "      <th>Total_Venda</th>\n",
       "      <th>Forma_Pagamento</th>\n",
       "    </tr>\n",
       "  </thead>\n",
       "  <tbody>\n",
       "    <tr>\n",
       "      <th>5326</th>\n",
       "      <td>5327</td>\n",
       "      <td>2022-01-01</td>\n",
       "      <td>Milkshake Morango</td>\n",
       "      <td>Bebida</td>\n",
       "      <td>4</td>\n",
       "      <td>14.0</td>\n",
       "      <td>56.0</td>\n",
       "      <td>Cartao de Credito</td>\n",
       "    </tr>\n",
       "    <tr>\n",
       "      <th>1835</th>\n",
       "      <td>1836</td>\n",
       "      <td>2022-01-01</td>\n",
       "      <td>X-Bacon</td>\n",
       "      <td>Sanduiche</td>\n",
       "      <td>5</td>\n",
       "      <td>20.0</td>\n",
       "      <td>100.0</td>\n",
       "      <td>Cartao de Debito</td>\n",
       "    </tr>\n",
       "    <tr>\n",
       "      <th>6531</th>\n",
       "      <td>6532</td>\n",
       "      <td>2022-01-01</td>\n",
       "      <td>Batata Frita Grande</td>\n",
       "      <td>Acompanhamento</td>\n",
       "      <td>2</td>\n",
       "      <td>12.0</td>\n",
       "      <td>24.0</td>\n",
       "      <td>Dinheiro</td>\n",
       "    </tr>\n",
       "    <tr>\n",
       "      <th>4326</th>\n",
       "      <td>4327</td>\n",
       "      <td>2022-01-01</td>\n",
       "      <td>Batata Frita Grande</td>\n",
       "      <td>Acompanhamento</td>\n",
       "      <td>1</td>\n",
       "      <td>12.0</td>\n",
       "      <td>12.0</td>\n",
       "      <td>Pix</td>\n",
       "    </tr>\n",
       "    <tr>\n",
       "      <th>9823</th>\n",
       "      <td>9824</td>\n",
       "      <td>2022-01-01</td>\n",
       "      <td>X-Tudo</td>\n",
       "      <td>Sanduiche</td>\n",
       "      <td>3</td>\n",
       "      <td>24.0</td>\n",
       "      <td>72.0</td>\n",
       "      <td>Dinheiro</td>\n",
       "    </tr>\n",
       "  </tbody>\n",
       "</table>\n",
       "</div>"
      ],
      "text/plain": [
       "      ID_Venda  Data_Venda              Produto       Categoria  Quantidade  \\\n",
       "5326      5327  2022-01-01    Milkshake Morango          Bebida           4   \n",
       "1835      1836  2022-01-01              X-Bacon       Sanduiche           5   \n",
       "6531      6532  2022-01-01  Batata Frita Grande  Acompanhamento           2   \n",
       "4326      4327  2022-01-01  Batata Frita Grande  Acompanhamento           1   \n",
       "9823      9824  2022-01-01               X-Tudo       Sanduiche           3   \n",
       "\n",
       "      Preco_Unitario  Total_Venda    Forma_Pagamento  \n",
       "5326            14.0         56.0  Cartao de Credito  \n",
       "1835            20.0        100.0   Cartao de Debito  \n",
       "6531            12.0         24.0           Dinheiro  \n",
       "4326            12.0         12.0                Pix  \n",
       "9823            24.0         72.0           Dinheiro  "
      ]
     },
     "execution_count": 25,
     "metadata": {},
     "output_type": "execute_result"
    }
   ],
   "source": [
    "# Ordena a data\n",
    "df = df.sort_values(by=\"Data_Venda\")\n",
    "df.head()"
   ]
  },
  {
   "cell_type": "code",
   "execution_count": null,
   "metadata": {},
   "outputs": [],
   "source": [
    "# Converter Data_Venda para datetime. dt.date irá deixar apenas a data\n",
    "df[\"Data_Venda\"] = pd.to_datetime(df[\"Data_Venda\"], format=\"%Y-%m-%d\").dt.date"
   ]
  },
  {
   "cell_type": "code",
   "execution_count": 27,
   "metadata": {},
   "outputs": [
    {
     "name": "stdout",
     "output_type": "stream",
     "text": [
      "ID_Venda           0\n",
      "Data_Venda         0\n",
      "Produto            0\n",
      "Categoria          0\n",
      "Quantidade         0\n",
      "Preco_Unitario     0\n",
      "Total_Venda        0\n",
      "Forma_Pagamento    0\n",
      "dtype: int64\n"
     ]
    }
   ],
   "source": [
    "# Verificar valores nulos\n",
    "print(df.isnull().sum())  # Para ver se há valores faltantes\n",
    "\n",
    "# Se houver valores nulos, podemos preencher ou remover:\n",
    "# df.fillna({\"Coluna\": valor_padrao}, inplace=True)  # Preencher valores nulos\n",
    "# df.dropna(inplace=True)  # Remover linhas com valores nulos"
   ]
  },
  {
   "cell_type": "code",
   "execution_count": 28,
   "metadata": {},
   "outputs": [
    {
     "name": "stdout",
     "output_type": "stream",
     "text": [
      "Erros encontrados: \n",
      " Empty DataFrame\n",
      "Columns: [ID_Venda, Data_Venda, Produto, Categoria, Quantidade, Preco_Unitario, Total_Venda, Forma_Pagamento, Total_Calculado, Diferenca_Total]\n",
      "Index: []\n"
     ]
    }
   ],
   "source": [
    "# Verificação de consistência da coluna Total_Venda\n",
    "df[\"Total_Calculado\"] = df[\"Quantidade\"] * df[\"Preco_Unitario\"]\n",
    "\n",
    "# Verificar diferenças entre Total_Venda e o cálculo manual\n",
    "df[\"Diferenca_Total\"] = df[\"Total_Calculado\"] - df[\"Total_Venda\"]\n",
    "erros = df[df[\"Diferenca_Total\"] != 0]\n",
    "print(\"Erros encontrados: \\n\", erros)\n",
    "\n",
    "# Opcional: Ajustar `Total_Venda` se houver erro\n",
    "# df[\"Total_Venda\"] = df[\"Total_Calculado\"]\n",
    "\n",
    "# Remover colunas auxiliares\n",
    "df.drop(columns=[\"Total_Calculado\", \"Diferenca_Total\"], inplace=True)"
   ]
  },
  {
   "cell_type": "code",
   "execution_count": 29,
   "metadata": {},
   "outputs": [],
   "source": [
    "# Salvando os dados em formato .xlsx\n",
    "df.to_excel('vendasBurgerExpress_Tratado.xlsx', index=False)"
   ]
  }
 ],
 "metadata": {
  "kernelspec": {
   "display_name": "Python 3",
   "language": "python",
   "name": "python3"
  },
  "language_info": {
   "codemirror_mode": {
    "name": "ipython",
    "version": 3
   },
   "file_extension": ".py",
   "mimetype": "text/x-python",
   "name": "python",
   "nbconvert_exporter": "python",
   "pygments_lexer": "ipython3",
   "version": "3.12.3"
  }
 },
 "nbformat": 4,
 "nbformat_minor": 2
}

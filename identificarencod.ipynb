import chardet
import pandas as pd

# Detectar encoding do arquivo
with open("dataBurgerExpress.csv", "rb") as f:
    result = chardet.detect(f.read())
    encoding_detected = result["encoding"]

print(f"Encoding detectado: {encoding_detected}")

# Ler o CSV com a codificação correta
df = pd.read_csv("dataBurgerExpress.csv", encoding=encoding_detected)